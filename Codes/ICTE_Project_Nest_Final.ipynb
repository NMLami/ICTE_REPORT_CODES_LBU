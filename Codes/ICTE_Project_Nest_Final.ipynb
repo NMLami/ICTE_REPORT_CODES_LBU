{
  "nbformat": 4,
  "nbformat_minor": 0,
  "metadata": {
    "colab": {
      "provenance": []
    },
    "kernelspec": {
      "name": "python3",
      "display_name": "Python 3"
    },
    "language_info": {
      "name": "python"
    }
  },
  "cells": [
    {
      "cell_type": "markdown",
      "source": [
        "**Data Analysis of Energy consumption of Nest Nodejs Framework**"
      ],
      "metadata": {
        "id": "Yk_DG79owmZ5"
      }
    },
    {
      "cell_type": "code",
      "execution_count": 1,
      "metadata": {
        "id": "yLUhH4F_wg1a"
      },
      "outputs": [],
      "source": [
        "import pandas as pd\n",
        "import numpy as np\n",
        "import matplotlib.pyplot as plt"
      ]
    },
    {
      "cell_type": "code",
      "source": [
        "from google.colab import drive\n",
        "drive.mount('/content/drive')"
      ],
      "metadata": {
        "colab": {
          "base_uri": "https://localhost:8080/"
        },
        "id": "0FC7W7AVwzP4",
        "outputId": "fd5c80f8-9cd1-4289-8e18-13816f2b38e0"
      },
      "execution_count": 2,
      "outputs": [
        {
          "output_type": "stream",
          "name": "stdout",
          "text": [
            "Mounted at /content/drive\n"
          ]
        }
      ]
    },
    {
      "cell_type": "code",
      "source": [
        "# load NEST js data \n",
        "T1 = \"drive/My Drive/Study/ICTE/nest/T1.csv\"\n",
        "T2 = \"drive/My Drive/Study/ICTE/nest/T2.csv\"\n",
        "T3 = \"drive/My Drive/Study/ICTE/nest/T3.csv\"\n",
        "T4 = \"drive/My Drive/Study/ICTE/nest/T4.csv\"\n",
        "T5 = \"drive/My Drive/Study/ICTE/nest/T5.csv\"\n",
        "T6 = \"drive/My Drive/Study/ICTE/nest/T6.csv\"\n",
        "T7 = \"drive/My Drive/Study/ICTE/nest/T7.csv\"\n",
        "T8 = \"drive/My Drive/Study/ICTE/nest/T8.csv\"\n",
        "T9 = \"drive/My Drive/Study/ICTE/nest/T9.csv\"\n",
        "T10 = \"drive/My Drive/Study/ICTE/nest/T10.csv\"\n",
        "\n",
        "df_T1 = pd.read_csv(T1, parse_dates=['time'])\n",
        "df_T2 = pd.read_csv(T2, parse_dates=['time'])\n",
        "df_T3 = pd.read_csv(T3, parse_dates=['time'])\n",
        "df_T4 = pd.read_csv(T4, parse_dates=['time'])\n",
        "df_T5 = pd.read_csv(T5, parse_dates=['time'])\n",
        "df_T6 = pd.read_csv(T6, parse_dates=['time'])\n",
        "df_T7 = pd.read_csv(T7, parse_dates=['time'])\n",
        "df_T8 = pd.read_csv(T8, parse_dates=['time'])\n",
        "df_T9 = pd.read_csv(T9, parse_dates=['time'])\n",
        "df_T10 = pd.read_csv(T10, parse_dates=['time'])\n",
        "\n",
        "# Set max_rows and max_columns options\n",
        "pd.set_option('display.max_rows', None)\n",
        "pd.set_option('display.max_columns', None)"
      ],
      "metadata": {
        "id": "fdFXACZpxASo"
      },
      "execution_count": 3,
      "outputs": []
    },
    {
      "cell_type": "code",
      "source": [
        "# Set the start and end timestamp experiment 1\n",
        "\n",
        "start_ts = pd.Timestamp('4:07:45 PM')\n",
        "end_ts = pd.Timestamp('4:08:10 PM')\n",
        "\n",
        "time_diff1 = (end_ts - start_ts).total_seconds()\n",
        "display(time_diff1)\n",
        "\n",
        "# Extract the rows that fall within the timestamp range\n",
        "filtered_T1 = df_T1[(df_T1['time'] >= start_ts) & (df_T1['time'] <= end_ts)]\n",
        "\n",
        "# display(filtered_T1)\n"
      ],
      "metadata": {
        "colab": {
          "base_uri": "https://localhost:8080/",
          "height": 35
        },
        "id": "8DypM84w4yzL",
        "outputId": "2b492687-e5d0-4e02-db89-bb3d53f31878"
      },
      "execution_count": 4,
      "outputs": [
        {
          "output_type": "display_data",
          "data": {
            "text/plain": [
              "25.0"
            ]
          },
          "metadata": {}
        }
      ]
    },
    {
      "cell_type": "code",
      "source": [
        "# Set the start and end timestamp experiment 2\n",
        "start_ts = pd.Timestamp('4:10:12 PM')\n",
        "end_ts = pd.Timestamp('4:10:36 PM')\n",
        "\n",
        "time_diff2 = (end_ts - start_ts).total_seconds()\n",
        "display(time_diff2)\n",
        "# Extract the rows that fall within the timestamp range\n",
        "filtered_T2 = df_T2[(df_T2['time'] >= start_ts) & (df_T2['time'] <= end_ts)]\n",
        "# display(filtered_T2)"
      ],
      "metadata": {
        "colab": {
          "base_uri": "https://localhost:8080/",
          "height": 35
        },
        "id": "8cLcCWH7_00D",
        "outputId": "20abddb9-2b44-44ea-ebc9-9c4bedf37855"
      },
      "execution_count": 5,
      "outputs": [
        {
          "output_type": "display_data",
          "data": {
            "text/plain": [
              "24.0"
            ]
          },
          "metadata": {}
        }
      ]
    },
    {
      "cell_type": "code",
      "source": [
        "# Set the start and end timestamp experiment 3\n",
        "start_ts = pd.Timestamp('4:14:24 PM')\n",
        "end_ts = pd.Timestamp('4:14:48 PM')\n",
        "\n",
        "time_diff3 = (end_ts - start_ts).total_seconds()\n",
        "display(time_diff3)\n",
        "# Extract the rows that fall within the timestamp range\n",
        "filtered_T3 = df_T3[(df_T3['time'] >= start_ts) & (df_T3['time'] <= end_ts)]\n",
        "# display(filtered_T3)"
      ],
      "metadata": {
        "colab": {
          "base_uri": "https://localhost:8080/",
          "height": 35
        },
        "id": "cS33HZnyAzIw",
        "outputId": "ce290458-b59d-4ace-9e29-0c5ea48a7a3c"
      },
      "execution_count": 6,
      "outputs": [
        {
          "output_type": "display_data",
          "data": {
            "text/plain": [
              "24.0"
            ]
          },
          "metadata": {}
        }
      ]
    },
    {
      "cell_type": "markdown",
      "source": [],
      "metadata": {
        "id": "TSKpx8V4BQrV"
      }
    },
    {
      "cell_type": "code",
      "source": [
        "# Set the start and end timestamp experiment 4\n",
        "start_ts = pd.Timestamp('4:17:30 PM') \n",
        "end_ts = pd.Timestamp('4:17:54 PM')\n",
        "\n",
        "time_diff4 = (end_ts - start_ts).total_seconds()\n",
        "display(time_diff4)\n",
        "# Extract the rows that fall within the timestamp range\n",
        "filtered_T4 = df_T4[(df_T4['time'] >= start_ts) & (df_T4['time'] <= end_ts)]\n",
        "# display(filtered_T4)"
      ],
      "metadata": {
        "colab": {
          "base_uri": "https://localhost:8080/",
          "height": 35
        },
        "id": "2aGpqyHsBR17",
        "outputId": "5d31bcfb-cb8f-4175-f41f-088f3003fb0f"
      },
      "execution_count": 7,
      "outputs": [
        {
          "output_type": "display_data",
          "data": {
            "text/plain": [
              "24.0"
            ]
          },
          "metadata": {}
        }
      ]
    },
    {
      "cell_type": "code",
      "source": [
        "# Set the start and end timestamp experiment 5\n",
        "start_ts = pd.Timestamp('4:19:50 PM') \n",
        "end_ts = pd.Timestamp('4:20:14 PM')\n",
        "\n",
        "time_diff5 = (end_ts - start_ts).total_seconds()\n",
        "display(time_diff5)\n",
        "# Extract the rows that fall within the timestamp range\n",
        "filtered_T5 = df_T5[(df_T5['time'] >= start_ts) & (df_T5['time'] <= end_ts)]\n",
        "# display(filtered_T5)"
      ],
      "metadata": {
        "colab": {
          "base_uri": "https://localhost:8080/",
          "height": 35
        },
        "id": "mtjJVHF8Bdjj",
        "outputId": "6b9c4146-9f65-408b-b533-18474bb4d1ba"
      },
      "execution_count": 8,
      "outputs": [
        {
          "output_type": "display_data",
          "data": {
            "text/plain": [
              "24.0"
            ]
          },
          "metadata": {}
        }
      ]
    },
    {
      "cell_type": "code",
      "source": [
        "# Set the start and end timestamp experiment 6\n",
        "start_ts = pd.Timestamp('4:22:50 PM') \n",
        "end_ts = pd.Timestamp('4:23:15 PM')\n",
        "\n",
        "time_diff6 = (end_ts - start_ts).total_seconds()\n",
        "display(time_diff6)\n",
        "# Extract the rows that fall within the timestamp range\n",
        "filtered_T6 = df_T6[(df_T6['time'] >= start_ts) & (df_T6['time'] <= end_ts)]\n",
        "# display(filtered_T6)"
      ],
      "metadata": {
        "colab": {
          "base_uri": "https://localhost:8080/",
          "height": 35
        },
        "id": "JEzwGOLfB0Lk",
        "outputId": "905eb779-2d6a-4c90-ecfa-27aca5d59652"
      },
      "execution_count": 9,
      "outputs": [
        {
          "output_type": "display_data",
          "data": {
            "text/plain": [
              "25.0"
            ]
          },
          "metadata": {}
        }
      ]
    },
    {
      "cell_type": "code",
      "source": [
        "# Set the start and end timestamp experiment 7\n",
        "start_ts = pd.Timestamp('4:25:15 PM') \n",
        "end_ts = pd.Timestamp('4:25:39 PM')\n",
        "\n",
        "time_diff7 = (end_ts - start_ts).total_seconds()\n",
        "display(time_diff7)\n",
        "\n",
        "# Extract the rows that fall within the timestamp range\n",
        "filtered_T7 = df_T7[(df_T7['time'] >= start_ts) & (df_T7['time'] <= end_ts)]\n",
        "# display(filtered_T7)"
      ],
      "metadata": {
        "colab": {
          "base_uri": "https://localhost:8080/",
          "height": 35
        },
        "id": "BLMV1BWbCN21",
        "outputId": "ae7bfd5f-c1eb-499b-86fd-584462beea5f"
      },
      "execution_count": 10,
      "outputs": [
        {
          "output_type": "display_data",
          "data": {
            "text/plain": [
              "24.0"
            ]
          },
          "metadata": {}
        }
      ]
    },
    {
      "cell_type": "code",
      "source": [
        "# Set the start and end timestamp experiment 8\n",
        "start_ts = pd.Timestamp('4:28:12 PM') \n",
        "end_ts = pd.Timestamp('4:28:37 PM')\n",
        "\n",
        "time_diff8 = (end_ts - start_ts).total_seconds()\n",
        "display(time_diff8)\n",
        "# Extract the rows that fall within the timestamp range\n",
        "filtered_T8 = df_T8[(df_T8['time'] >= start_ts) & (df_T8['time'] <= end_ts)]\n",
        "# display(filtered_T8)"
      ],
      "metadata": {
        "colab": {
          "base_uri": "https://localhost:8080/",
          "height": 35
        },
        "id": "FhXPBsCbCvz-",
        "outputId": "3c36db16-c3b2-4c5d-a431-bb4ecbdf8a11"
      },
      "execution_count": 11,
      "outputs": [
        {
          "output_type": "display_data",
          "data": {
            "text/plain": [
              "25.0"
            ]
          },
          "metadata": {}
        }
      ]
    },
    {
      "cell_type": "code",
      "source": [
        "# Set the start and end timestamp experiment 9\n",
        "start_ts = pd.Timestamp('4:30:23 PM') \n",
        "end_ts = pd.Timestamp('4:30:47 PM')\n",
        "\n",
        "time_diff9 = (end_ts - start_ts).total_seconds()\n",
        "display(time_diff9)\n",
        "# Extract the rows that fall within the timestamp range\n",
        "filtered_T9 = df_T9[(df_T9['time'] >= start_ts) & (df_T9['time'] <= end_ts)]\n"
      ],
      "metadata": {
        "colab": {
          "base_uri": "https://localhost:8080/",
          "height": 35
        },
        "id": "EiXmYT4eDVop",
        "outputId": "00459ecd-2eec-4133-ed76-725f57cda568"
      },
      "execution_count": 12,
      "outputs": [
        {
          "output_type": "display_data",
          "data": {
            "text/plain": [
              "24.0"
            ]
          },
          "metadata": {}
        }
      ]
    },
    {
      "cell_type": "code",
      "source": [
        "# Set the start and end timestamp experiment 10\n",
        "start_ts = pd.Timestamp('4:32:31 PM') \n",
        "end_ts = pd.Timestamp('4:32:56 PM')\n",
        "\n",
        "time_diff10 = (end_ts - start_ts).total_seconds()\n",
        "display(time_diff10)\n",
        "# Extract the rows that fall within the timestamp range\n",
        "filtered_T10 = df_T10[(df_T10['time'] >= start_ts) & (df_T10['time'] <= end_ts)]\n"
      ],
      "metadata": {
        "colab": {
          "base_uri": "https://localhost:8080/",
          "height": 35
        },
        "id": "j4c7x9jbDw5U",
        "outputId": "ca74eb74-cbe0-48d3-f2e3-b9e72a966b4b"
      },
      "execution_count": 13,
      "outputs": [
        {
          "output_type": "display_data",
          "data": {
            "text/plain": [
              "25.0"
            ]
          },
          "metadata": {}
        }
      ]
    },
    {
      "cell_type": "code",
      "source": [
        "#Time Mean\n",
        "TIME_MEAN = (time_diff1+time_diff2+time_diff3+time_diff4+time_diff5+time_diff6+time_diff7+time_diff8+time_diff9+time_diff10)/10\n",
        "print(TIME_MEAN)"
      ],
      "metadata": {
        "colab": {
          "base_uri": "https://localhost:8080/"
        },
        "id": "fqLaFOQMKje0",
        "outputId": "3bb880b2-efd6-479f-8097-2573769e22a1"
      },
      "execution_count": 14,
      "outputs": [
        {
          "output_type": "stream",
          "name": "stdout",
          "text": [
            "24.4\n"
          ]
        }
      ]
    },
    {
      "cell_type": "code",
      "source": [
        "#CPU Aplication Power \n",
        "CPU_APPLICATION_POWER_TOTAL = filtered_T1[' Application (W)'].sum() + filtered_T2[' Application (W)'].sum() + filtered_T3[' Application (W)'].sum() + filtered_T4[' Application (W)'].sum() + filtered_T5[' Application (W)'].sum()+ filtered_T6[' Application (W)'].sum()  + filtered_T7[' Application (W)'].sum() + filtered_T8[' Application (W)'].sum() + filtered_T9[' Application (W)'].sum()+ filtered_T10[' Application (W)'].sum()  \n",
        "CPU_APPLICATION_POWER_MEAN = CPU_APPLICATION_POWER_TOTAL/(10*TIME_MEAN)\n",
        "print(CPU_APPLICATION_POWER_MEAN)"
      ],
      "metadata": {
        "colab": {
          "base_uri": "https://localhost:8080/"
        },
        "id": "Pfm8KiBfFSVi",
        "outputId": "63188102-67eb-4e62-85ce-c299ad752d4a"
      },
      "execution_count": 15,
      "outputs": [
        {
          "output_type": "stream",
          "name": "stdout",
          "text": [
            "0.03811475409836066\n"
          ]
        }
      ]
    },
    {
      "cell_type": "code",
      "source": [
        "#CPU  Power \n",
        "CPU_POWER_TOTAL = filtered_T1[' CPU (W)'].sum() + filtered_T2[' CPU (W)'].sum() + filtered_T3[' CPU (W)'].sum() + filtered_T4[' CPU (W)'].sum() + filtered_T5[' CPU (W)'].sum()+ filtered_T6[' CPU (W)'].sum()  + filtered_T7[' CPU (W)'].sum() + filtered_T8[' CPU (W)'].sum() + filtered_T9[' CPU (W)'].sum()+ filtered_T10[' CPU (W)'].sum()  \n",
        "CPU_POWER_MEAN = CPU_POWER_TOTAL/(10*TIME_MEAN)\n",
        "print(CPU_POWER_MEAN)"
      ],
      "metadata": {
        "colab": {
          "base_uri": "https://localhost:8080/"
        },
        "id": "BgO6Rv4_P--9",
        "outputId": "194d89f2-ce80-4e5e-fe70-b7ae768808e3"
      },
      "execution_count": 16,
      "outputs": [
        {
          "output_type": "stream",
          "name": "stdout",
          "text": [
            "0.9221311475409836\n"
          ]
        }
      ]
    },
    {
      "cell_type": "code",
      "source": [
        "#Monitor  Power \n",
        "MONITOR_POWER_TOTAL = filtered_T1[' Monitor (W)'].sum() + filtered_T2[' Monitor (W)'].sum() + filtered_T3[' Monitor (W)'].sum() + filtered_T4[' Monitor (W)'].sum() + filtered_T5[' Monitor (W)'].sum()+ filtered_T6[' Monitor (W)'].sum()  + filtered_T7[' Monitor (W)'].sum() + filtered_T8[' Monitor (W)'].sum() + filtered_T9[' Monitor (W)'].sum()+ filtered_T10[' Monitor (W)'].sum()  \n",
        "MONITOR_POWER_MEAN = MONITOR_POWER_TOTAL/(10*TIME_MEAN)\n",
        "print(MONITOR_POWER_MEAN) "
      ],
      "metadata": {
        "colab": {
          "base_uri": "https://localhost:8080/"
        },
        "id": "wfOIzqtIRmg-",
        "outputId": "7db45ab5-6895-4a16-a0a7-95758a27d3dd"
      },
      "execution_count": 17,
      "outputs": [
        {
          "output_type": "stream",
          "name": "stdout",
          "text": [
            "6.598360655737705\n"
          ]
        }
      ]
    },
    {
      "cell_type": "code",
      "source": [
        "#Disk  Power \n",
        "DISK_POWER_TOTAL = filtered_T1[' Disk (W)'].sum() + filtered_T2[' Disk (W)'].sum() + filtered_T3[' Disk (W)'].sum() + filtered_T4[' Disk (W)'].sum() + filtered_T5[' Disk (W)'].sum()+ filtered_T6[' Disk (W)'].sum()  + filtered_T7[' Disk (W)'].sum() + filtered_T8[' Disk (W)'].sum() + filtered_T9[' Disk (W)'].sum()+ filtered_T10[' Disk (W)'].sum()  \n",
        "DISK_POWER_MEAN =DISK_POWER_TOTAL/(10*TIME_MEAN)\n",
        "print(DISK_POWER_MEAN) "
      ],
      "metadata": {
        "colab": {
          "base_uri": "https://localhost:8080/"
        },
        "id": "jk1N0YsmRy5h",
        "outputId": "bce9a457-9a94-40a8-ff7b-ebd46859acfc"
      },
      "execution_count": 18,
      "outputs": [
        {
          "output_type": "stream",
          "name": "stdout",
          "text": [
            "0.0\n"
          ]
        }
      ]
    },
    {
      "cell_type": "code",
      "source": [
        "#BASE  Power \n",
        "BASE_POWER_TOTAL = filtered_T1[' Base (W)'].sum() + filtered_T2[' Base (W)'].sum() + filtered_T3[' Base (W)'].sum() + filtered_T4[' Base (W)'].sum() + filtered_T5[' Base (W)'].sum()+ filtered_T6[' Base (W)'].sum()  + filtered_T7[' Base (W)'].sum() + filtered_T8[' Base (W)'].sum() + filtered_T9[' Base (W)'].sum()+ filtered_T10[' Base (W)'].sum()  \n",
        "BASE_POWER_MEAN = BASE_POWER_TOTAL/(10*TIME_MEAN)\n",
        "print(BASE_POWER_MEAN) "
      ],
      "metadata": {
        "colab": {
          "base_uri": "https://localhost:8080/"
        },
        "id": "aTs0yFHwSiv2",
        "outputId": "e2327d7c-9dac-4edc-bc23-09f228033554"
      },
      "execution_count": 19,
      "outputs": [
        {
          "output_type": "stream",
          "name": "stdout",
          "text": [
            "14.139344262295081\n"
          ]
        }
      ]
    },
    {
      "cell_type": "code",
      "source": [],
      "metadata": {
        "id": "nBcnWQJQTcSy"
      },
      "execution_count": 19,
      "outputs": []
    },
    {
      "cell_type": "code",
      "source": [
        "#Total Hardware energy\n",
        "TOTAL_HARDWARE_ENERGY = (CPU_POWER_MEAN + MONITOR_POWER_MEAN + DISK_POWER_MEAN + BASE_POWER_MEAN)\n",
        "print(TOTAL_HARDWARE_ENERGY)"
      ],
      "metadata": {
        "colab": {
          "base_uri": "https://localhost:8080/"
        },
        "id": "IzoTNC0rVGMu",
        "outputId": "61014bcc-0dd1-4f05-bec5-918f7dd8fc20"
      },
      "execution_count": 20,
      "outputs": [
        {
          "output_type": "stream",
          "name": "stdout",
          "text": [
            "21.65983606557377\n"
          ]
        }
      ]
    },
    {
      "cell_type": "code",
      "source": [
        "#Agreegated Total Energy\n",
        "AGGEGATED_TOTAL_ENERGY = TOTAL_HARDWARE_ENERGY + CPU_APPLICATION_POWER_MEAN\n",
        "print(AGGEGATED_TOTAL_ENERGY)"
      ],
      "metadata": {
        "colab": {
          "base_uri": "https://localhost:8080/"
        },
        "id": "ZoAfo_wdUELa",
        "outputId": "845da2de-e1fa-419c-9c2f-162f144ed3dc"
      },
      "execution_count": 21,
      "outputs": [
        {
          "output_type": "stream",
          "name": "stdout",
          "text": [
            "21.69795081967213\n"
          ]
        }
      ]
    }
  ]
}