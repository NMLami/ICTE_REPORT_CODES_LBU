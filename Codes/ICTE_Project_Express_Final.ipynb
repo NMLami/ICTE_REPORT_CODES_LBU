{
  "nbformat": 4,
  "nbformat_minor": 0,
  "metadata": {
    "colab": {
      "provenance": []
    },
    "kernelspec": {
      "name": "python3",
      "display_name": "Python 3"
    },
    "language_info": {
      "name": "python"
    }
  },
  "cells": [
    {
      "cell_type": "markdown",
      "source": [
        "**Data Analysis of Energy consumption of Nodejs Framework**"
      ],
      "metadata": {
        "id": "Yk_DG79owmZ5"
      }
    },
    {
      "cell_type": "code",
      "execution_count": 1,
      "metadata": {
        "id": "yLUhH4F_wg1a"
      },
      "outputs": [],
      "source": [
        "import pandas as pd\n",
        "import numpy as np\n",
        "import matplotlib.pyplot as plt"
      ]
    },
    {
      "cell_type": "code",
      "source": [
        "from google.colab import drive\n",
        "drive.mount('/content/drive')"
      ],
      "metadata": {
        "colab": {
          "base_uri": "https://localhost:8080/"
        },
        "id": "0FC7W7AVwzP4",
        "outputId": "9a21650f-f36f-4eed-97dd-a5771fa71117"
      },
      "execution_count": 2,
      "outputs": [
        {
          "output_type": "stream",
          "name": "stdout",
          "text": [
            "Mounted at /content/drive\n"
          ]
        }
      ]
    },
    {
      "cell_type": "code",
      "source": [
        "# load Express Experiment data\n",
        "T1 = \"drive/My Drive/Study/ICTE/express/T1.csv\"\n",
        "T2 = \"drive/My Drive/Study/ICTE/express/T2.csv\"\n",
        "T3 = \"drive/My Drive/Study/ICTE/express/T3.csv\"\n",
        "T4 = \"drive/My Drive/Study/ICTE/express/T4.csv\"\n",
        "T5 = \"drive/My Drive/Study/ICTE/express/T5.csv\"\n",
        "T6 = \"drive/My Drive/Study/ICTE/express/T6.csv\"\n",
        "T7 = \"drive/My Drive/Study/ICTE/express/T7.csv\"\n",
        "T8 = \"drive/My Drive/Study/ICTE/express/T8.csv\"\n",
        "T9 = \"drive/My Drive/Study/ICTE/express/T9.csv\"\n",
        "T10 = \"drive/My Drive/Study/ICTE/express/T10.csv\"\n",
        "\n",
        "# northHemIce = \"drive/My Drive/Study/DAV/north_hemisphere_ice.xlsx\"\n",
        "# southHemIce = \"drive/My Drive/Study/DAV/south_hemishpere_ice.xlsx\"\n",
        "df_T1 = pd.read_csv(T1, parse_dates=['time'])\n",
        "df_T2 = pd.read_csv(T2, parse_dates=['time'])\n",
        "df_T3 = pd.read_csv(T3, parse_dates=['time'])\n",
        "df_T4 = pd.read_csv(T4, parse_dates=['time'])\n",
        "df_T5 = pd.read_csv(T5, parse_dates=['time'])\n",
        "df_T6 = pd.read_csv(T6, parse_dates=['time'])\n",
        "df_T7 = pd.read_csv(T7, parse_dates=['time'])\n",
        "df_T8 = pd.read_csv(T8, parse_dates=['time'])\n",
        "df_T9 = pd.read_csv(T9, parse_dates=['time'])\n",
        "df_T10 = pd.read_csv(T10, parse_dates=['time'])\n",
        "# df_northHemIce = pd.read_excel(northHemIce)\n",
        "# df_southHemIce = pd.read_excel(southHemIce)\n",
        "\n",
        "# Set max_rows and max_columns options\n",
        "pd.set_option('display.max_rows', None)\n",
        "pd.set_option('display.max_columns', None)"
      ],
      "metadata": {
        "id": "fdFXACZpxASo"
      },
      "execution_count": 3,
      "outputs": []
    },
    {
      "cell_type": "code",
      "source": [
        "# Set the start and end timestamp of experiment 1\n",
        "\n",
        "start_ts = pd.Timestamp('2:57:54 PM')\n",
        "end_ts = pd.Timestamp('2:58:19 PM')\n",
        "\n",
        "time_diff1 = (end_ts - start_ts).total_seconds()\n",
        "display(time_diff1)\n",
        "\n",
        "# Extract the rows that fall within the timestamp range\n",
        "filtered_T1 = df_T1[(df_T1['time'] >= start_ts) & (df_T1['time'] <= end_ts)]\n",
        "\n",
        "# display(filtered_T1)\n"
      ],
      "metadata": {
        "colab": {
          "base_uri": "https://localhost:8080/",
          "height": 35
        },
        "id": "8DypM84w4yzL",
        "outputId": "e7a562bc-cc62-415f-ff58-6a8df53444c9"
      },
      "execution_count": 4,
      "outputs": [
        {
          "output_type": "display_data",
          "data": {
            "text/plain": [
              "25.0"
            ]
          },
          "metadata": {}
        }
      ]
    },
    {
      "cell_type": "code",
      "source": [
        "# Set the start and end timestamp of experiment 2\n",
        "start_ts = pd.Timestamp('2:59:00 PM')\n",
        "end_ts = pd.Timestamp('2:59:24 PM')\n",
        "\n",
        "time_diff2 = (end_ts - start_ts).total_seconds()\n",
        "display(time_diff2)\n",
        "# Extract the rows that fall within the timestamp range\n",
        "filtered_T2 = df_T2[(df_T2['time'] >= start_ts) & (df_T2['time'] <= end_ts)]\n",
        "# display(filtered_T2)"
      ],
      "metadata": {
        "colab": {
          "base_uri": "https://localhost:8080/",
          "height": 35
        },
        "id": "8cLcCWH7_00D",
        "outputId": "68576c1e-05e7-4729-daac-1b77d512177a"
      },
      "execution_count": 6,
      "outputs": [
        {
          "output_type": "display_data",
          "data": {
            "text/plain": [
              "24.0"
            ]
          },
          "metadata": {}
        }
      ]
    },
    {
      "cell_type": "code",
      "source": [
        "# Set the start and end timestamp of experiment 3\n",
        "start_ts = pd.Timestamp('2:59:47 PM')\n",
        "end_ts = pd.Timestamp('3:00:11 PM')\n",
        "\n",
        "time_diff3 = (end_ts - start_ts).total_seconds()\n",
        "display(time_diff3)\n",
        "# Extract the rows that fall within the timestamp range\n",
        "filtered_T3 = df_T3[(df_T3['time'] >= start_ts) & (df_T3['time'] <= end_ts)]\n",
        "# display(filtered_T3)"
      ],
      "metadata": {
        "colab": {
          "base_uri": "https://localhost:8080/",
          "height": 35
        },
        "id": "cS33HZnyAzIw",
        "outputId": "1e064fac-243e-45c7-e01d-689e8a481d44"
      },
      "execution_count": 7,
      "outputs": [
        {
          "output_type": "display_data",
          "data": {
            "text/plain": [
              "24.0"
            ]
          },
          "metadata": {}
        }
      ]
    },
    {
      "cell_type": "markdown",
      "source": [],
      "metadata": {
        "id": "TSKpx8V4BQrV"
      }
    },
    {
      "cell_type": "code",
      "source": [
        "# Set the start and end timestamp of experiment 4\n",
        "start_ts = pd.Timestamp('3:16:02 PM') \n",
        "end_ts = pd.Timestamp('3:16:27 PM')\n",
        "\n",
        "time_diff4 = (end_ts - start_ts).total_seconds()\n",
        "display(time_diff4)\n",
        "# Extract the rows that fall within the timestamp range\n",
        "filtered_T4 = df_T4[(df_T4['time'] >= start_ts) & (df_T4['time'] <= end_ts)]\n",
        "# display(filtered_T4)"
      ],
      "metadata": {
        "colab": {
          "base_uri": "https://localhost:8080/",
          "height": 35
        },
        "id": "2aGpqyHsBR17",
        "outputId": "0935a754-c61b-43ea-a589-2f91d1464df4"
      },
      "execution_count": 8,
      "outputs": [
        {
          "output_type": "display_data",
          "data": {
            "text/plain": [
              "25.0"
            ]
          },
          "metadata": {}
        }
      ]
    },
    {
      "cell_type": "code",
      "source": [
        "# Set the start and end timestamp of experiment 5\n",
        "start_ts = pd.Timestamp('3:16:58 PM') \n",
        "end_ts = pd.Timestamp('3:17:22 PM')\n",
        "\n",
        "time_diff5 = (end_ts - start_ts).total_seconds()\n",
        "display(time_diff5)\n",
        "# Extract the rows that fall within the timestamp range\n",
        "filtered_T5 = df_T5[(df_T5['time'] >= start_ts) & (df_T5['time'] <= end_ts)]\n",
        "# display(filtered_T5)"
      ],
      "metadata": {
        "colab": {
          "base_uri": "https://localhost:8080/",
          "height": 35
        },
        "id": "mtjJVHF8Bdjj",
        "outputId": "55e8a61d-8d80-410e-d2c7-ef7e228eb877"
      },
      "execution_count": 9,
      "outputs": [
        {
          "output_type": "display_data",
          "data": {
            "text/plain": [
              "24.0"
            ]
          },
          "metadata": {}
        }
      ]
    },
    {
      "cell_type": "code",
      "source": [
        "# Set the start and end timestamp of experiment 6\n",
        "start_ts = pd.Timestamp('8:17:49 PM') \n",
        "end_ts = pd.Timestamp('8:18:13 PM')\n",
        "\n",
        "time_diff6 = (end_ts - start_ts).total_seconds()\n",
        "display(time_diff6)\n",
        "# Extract the rows that fall within the timestamp range\n",
        "filtered_T6 = df_T6[(df_T6['time'] >= start_ts) & (df_T6['time'] <= end_ts)]\n",
        "# display(filtered_T6)"
      ],
      "metadata": {
        "colab": {
          "base_uri": "https://localhost:8080/",
          "height": 35
        },
        "id": "JEzwGOLfB0Lk",
        "outputId": "1c2d69e3-19ef-4515-c716-c773f0e6b995"
      },
      "execution_count": 10,
      "outputs": [
        {
          "output_type": "display_data",
          "data": {
            "text/plain": [
              "24.0"
            ]
          },
          "metadata": {}
        }
      ]
    },
    {
      "cell_type": "code",
      "source": [
        "# Set the start and end timestamp of experiment 7\n",
        "start_ts = pd.Timestamp('8:19:59 PM') \n",
        "end_ts = pd.Timestamp('8:20:24 PM')\n",
        "\n",
        "time_diff7 = (end_ts - start_ts).total_seconds()\n",
        "display(time_diff7)\n",
        "\n",
        "# Extract the rows that fall within the timestamp range\n",
        "filtered_T7 = df_T7[(df_T7['time'] >= start_ts) & (df_T7['time'] <= end_ts)]\n",
        "# display(filtered_T7)"
      ],
      "metadata": {
        "colab": {
          "base_uri": "https://localhost:8080/",
          "height": 35
        },
        "id": "BLMV1BWbCN21",
        "outputId": "22ed826d-5f4f-4c8b-fdb7-495d24e03bd3"
      },
      "execution_count": 11,
      "outputs": [
        {
          "output_type": "display_data",
          "data": {
            "text/plain": [
              "25.0"
            ]
          },
          "metadata": {}
        }
      ]
    },
    {
      "cell_type": "code",
      "source": [
        "# Set the start and end timestamp of experiment 8\n",
        "start_ts = pd.Timestamp('8:22:07 PM') \n",
        "end_ts = pd.Timestamp('8:22:32 PM')\n",
        "\n",
        "time_diff8 = (end_ts - start_ts).total_seconds()\n",
        "display(time_diff8)\n",
        "# Extract the rows that fall within the timestamp range\n",
        "filtered_T8 = df_T8[(df_T8['time'] >= start_ts) & (df_T8['time'] <= end_ts)]\n",
        "# display(filtered_T8)"
      ],
      "metadata": {
        "colab": {
          "base_uri": "https://localhost:8080/",
          "height": 35
        },
        "id": "FhXPBsCbCvz-",
        "outputId": "fe8374d6-b71c-48a3-8935-78deafee9bf7"
      },
      "execution_count": 12,
      "outputs": [
        {
          "output_type": "display_data",
          "data": {
            "text/plain": [
              "25.0"
            ]
          },
          "metadata": {}
        }
      ]
    },
    {
      "cell_type": "code",
      "source": [
        "# Set the start and end timestamp of experiment 9\n",
        "start_ts = pd.Timestamp('8:24:07 PM') \n",
        "end_ts = pd.Timestamp('8:24:32 PM')\n",
        "\n",
        "time_diff9 = (end_ts - start_ts).total_seconds()\n",
        "display(time_diff9)\n",
        "# Extract the rows that fall within the timestamp range\n",
        "filtered_T9 = df_T9[(df_T9['time'] >= start_ts) & (df_T9['time'] <= end_ts)]\n"
      ],
      "metadata": {
        "colab": {
          "base_uri": "https://localhost:8080/",
          "height": 35
        },
        "id": "EiXmYT4eDVop",
        "outputId": "4fd76874-3147-4147-e1da-822cfd24624b"
      },
      "execution_count": 13,
      "outputs": [
        {
          "output_type": "display_data",
          "data": {
            "text/plain": [
              "25.0"
            ]
          },
          "metadata": {}
        }
      ]
    },
    {
      "cell_type": "code",
      "source": [
        "# Set the start and end timestamp of experiment 10\n",
        "start_ts = pd.Timestamp('8:28:13 PM') \n",
        "end_ts = pd.Timestamp('8:28:37 PM')\n",
        "\n",
        "time_diff10 = (end_ts - start_ts).total_seconds()\n",
        "display(time_diff10)\n",
        "# Extract the rows that fall within the timestamp range\n",
        "filtered_T10 = df_T10[(df_T10['time'] >= start_ts) & (df_T10['time'] <= end_ts)]\n"
      ],
      "metadata": {
        "colab": {
          "base_uri": "https://localhost:8080/",
          "height": 35
        },
        "id": "j4c7x9jbDw5U",
        "outputId": "08c47a40-bcd6-4cd5-ed28-9864240e8b92"
      },
      "execution_count": 14,
      "outputs": [
        {
          "output_type": "display_data",
          "data": {
            "text/plain": [
              "24.0"
            ]
          },
          "metadata": {}
        }
      ]
    },
    {
      "cell_type": "code",
      "source": [
        "#Time Mean\n",
        "TIME_MEAN = (time_diff1+time_diff2+time_diff3+time_diff4+time_diff5+time_diff6+time_diff7+time_diff8+time_diff9+time_diff10)/10\n",
        "print(TIME_MEAN)"
      ],
      "metadata": {
        "colab": {
          "base_uri": "https://localhost:8080/"
        },
        "id": "NmeKa5gCCDAk",
        "outputId": "3737bef0-a9c1-49e2-9d19-0ede6ddd6894"
      },
      "execution_count": 15,
      "outputs": [
        {
          "output_type": "stream",
          "name": "stdout",
          "text": [
            "24.5\n"
          ]
        }
      ]
    },
    {
      "cell_type": "code",
      "source": [],
      "metadata": {
        "id": "e61u8axiCl4w"
      },
      "execution_count": 17,
      "outputs": []
    },
    {
      "cell_type": "code",
      "source": [
        "#CPU Aplication Power \n",
        "CPU_APPLICATION_POWER_TOTAL = filtered_T1[' Application (W)'].sum() + filtered_T2[' Application (W)'].sum() + filtered_T3[' Application (W)'].sum() + filtered_T4[' Application (W)'].sum() + filtered_T5[' Application (W)'].sum()+ filtered_T6[' Application (W)'].sum()  + filtered_T7[' Application (W)'].sum() + filtered_T8[' Application (W)'].sum() + filtered_T9[' Application (W)'].sum()+ filtered_T10[' Application (W)'].sum()  \n",
        "CPU_APPLICATION_POWER_MEAN = CPU_APPLICATION_POWER_TOTAL/(10*TIME_MEAN)\n",
        "print(CPU_APPLICATION_POWER_MEAN)"
      ],
      "metadata": {
        "colab": {
          "base_uri": "https://localhost:8080/"
        },
        "id": "Pfm8KiBfFSVi",
        "outputId": "646a3f0a-d9a1-4187-b149-9a82290cf8ed"
      },
      "execution_count": 17,
      "outputs": [
        {
          "output_type": "stream",
          "name": "stdout",
          "text": [
            "0.051836734693877555\n"
          ]
        }
      ]
    },
    {
      "cell_type": "code",
      "source": [
        "#CPU  Power \n",
        "CPU_POWER_TOTAL = filtered_T1[' CPU (W)'].sum() + filtered_T2[' CPU (W)'].sum() + filtered_T3[' CPU (W)'].sum() + filtered_T4[' CPU (W)'].sum() + filtered_T5[' CPU (W)'].sum()+ filtered_T6[' CPU (W)'].sum()  + filtered_T7[' CPU (W)'].sum() + filtered_T8[' CPU (W)'].sum() + filtered_T9[' CPU (W)'].sum()+ filtered_T10[' CPU (W)'].sum()  \n",
        "CPU_POWER_MEAN = CPU_POWER_TOTAL/(10*TIME_MEAN)\n",
        "print(CPU_POWER_MEAN)"
      ],
      "metadata": {
        "colab": {
          "base_uri": "https://localhost:8080/"
        },
        "id": "BgO6Rv4_P--9",
        "outputId": "fc49a1e5-ffa6-481c-cf0d-7ace3666c913"
      },
      "execution_count": 18,
      "outputs": [
        {
          "output_type": "stream",
          "name": "stdout",
          "text": [
            "0.8342857142857143\n"
          ]
        }
      ]
    },
    {
      "cell_type": "code",
      "source": [
        "#Monitor  Power \n",
        "MONITOR_POWER_TOTAL = filtered_T1[' Monitor (W)'].sum() + filtered_T2[' Monitor (W)'].sum() + filtered_T3[' Monitor (W)'].sum() + filtered_T4[' Monitor (W)'].sum() + filtered_T5[' Monitor (W)'].sum()+ filtered_T6[' Monitor (W)'].sum()  + filtered_T7[' Monitor (W)'].sum() + filtered_T8[' Monitor (W)'].sum() + filtered_T9[' Monitor (W)'].sum()+ filtered_T10[' Monitor (W)'].sum()  \n",
        "MONITOR_POWER_MEAN = MONITOR_POWER_TOTAL/(10*TIME_MEAN)\n",
        "print(MONITOR_POWER_MEAN) "
      ],
      "metadata": {
        "colab": {
          "base_uri": "https://localhost:8080/"
        },
        "id": "wfOIzqtIRmg-",
        "outputId": "a42ab67f-e3bf-46e0-aff6-083ac1a4fdac"
      },
      "execution_count": 19,
      "outputs": [
        {
          "output_type": "stream",
          "name": "stdout",
          "text": [
            "6.571428571428571\n"
          ]
        }
      ]
    },
    {
      "cell_type": "code",
      "source": [
        "#Disk  Power \n",
        "DISK_POWER_TOTAL = filtered_T1[' Disk (W)'].sum() + filtered_T2[' Disk (W)'].sum() + filtered_T3[' Disk (W)'].sum() + filtered_T4[' Disk (W)'].sum() + filtered_T5[' Disk (W)'].sum()+ filtered_T6[' Disk (W)'].sum()  + filtered_T7[' Disk (W)'].sum() + filtered_T8[' Disk (W)'].sum() + filtered_T9[' Disk (W)'].sum()+ filtered_T10[' Disk (W)'].sum()  \n",
        "DISK_POWER_MEAN =DISK_POWER_TOTAL/(10*TIME_MEAN)\n",
        "print(DISK_POWER_MEAN) "
      ],
      "metadata": {
        "colab": {
          "base_uri": "https://localhost:8080/"
        },
        "id": "jk1N0YsmRy5h",
        "outputId": "8a86c930-b019-4c60-9a41-b69c7dd7d7db"
      },
      "execution_count": 20,
      "outputs": [
        {
          "output_type": "stream",
          "name": "stdout",
          "text": [
            "0.0\n"
          ]
        }
      ]
    },
    {
      "cell_type": "code",
      "source": [
        "#BASE  Power \n",
        "BASE_POWER_TOTAL = filtered_T1[' Base (W)'].sum() + filtered_T2[' Base (W)'].sum() + filtered_T3[' Base (W)'].sum() + filtered_T4[' Base (W)'].sum() + filtered_T5[' Base (W)'].sum()+ filtered_T6[' Base (W)'].sum()  + filtered_T7[' Base (W)'].sum() + filtered_T8[' Base (W)'].sum() + filtered_T9[' Base (W)'].sum()+ filtered_T10[' Base (W)'].sum()  \n",
        "BASE_POWER_MEAN = BASE_POWER_TOTAL/(10*TIME_MEAN)\n",
        "print(BASE_POWER_MEAN) "
      ],
      "metadata": {
        "colab": {
          "base_uri": "https://localhost:8080/"
        },
        "id": "aTs0yFHwSiv2",
        "outputId": "887b973a-3f70-4e16-9ecb-867f7b8397d7"
      },
      "execution_count": 21,
      "outputs": [
        {
          "output_type": "stream",
          "name": "stdout",
          "text": [
            "14.081632653061224\n"
          ]
        }
      ]
    },
    {
      "cell_type": "code",
      "source": [],
      "metadata": {
        "id": "nBcnWQJQTcSy"
      },
      "execution_count": 21,
      "outputs": []
    },
    {
      "cell_type": "code",
      "source": [
        "#Total Hardware energy\n",
        "TOTAL_HARDWARE_ENERGY = (CPU_POWER_MEAN + MONITOR_POWER_MEAN + DISK_POWER_MEAN + BASE_POWER_MEAN)\n",
        "print(TOTAL_HARDWARE_ENERGY)"
      ],
      "metadata": {
        "colab": {
          "base_uri": "https://localhost:8080/"
        },
        "id": "IzoTNC0rVGMu",
        "outputId": "1dfe1acf-0e91-494a-eeb4-7f813f7122aa"
      },
      "execution_count": 22,
      "outputs": [
        {
          "output_type": "stream",
          "name": "stdout",
          "text": [
            "21.48734693877551\n"
          ]
        }
      ]
    },
    {
      "cell_type": "code",
      "source": [
        "#Agreegated Total Energy\n",
        "AGGEGATED_TOTAL_ENERGY = TOTAL_HARDWARE_ENERGY + CPU_APPLICATION_POWER_MEAN\n",
        "print(AGGEGATED_TOTAL_ENERGY)"
      ],
      "metadata": {
        "colab": {
          "base_uri": "https://localhost:8080/"
        },
        "id": "ZoAfo_wdUELa",
        "outputId": "d34b06d1-9cd8-4ddb-df1b-77592a822c01"
      },
      "execution_count": 23,
      "outputs": [
        {
          "output_type": "stream",
          "name": "stdout",
          "text": [
            "21.53918367346939\n"
          ]
        }
      ]
    }
  ]
}