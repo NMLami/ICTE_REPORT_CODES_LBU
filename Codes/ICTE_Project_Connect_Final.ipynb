{
  "nbformat": 4,
  "nbformat_minor": 0,
  "metadata": {
    "colab": {
      "provenance": []
    },
    "kernelspec": {
      "name": "python3",
      "display_name": "Python 3"
    },
    "language_info": {
      "name": "python"
    }
  },
  "cells": [
    {
      "cell_type": "markdown",
      "source": [
        "**Data Analysis of Energy consumption of Connect Nodejs Framework**"
      ],
      "metadata": {
        "id": "Yk_DG79owmZ5"
      }
    },
    {
      "cell_type": "code",
      "execution_count": 1,
      "metadata": {
        "id": "yLUhH4F_wg1a"
      },
      "outputs": [],
      "source": [
        "import pandas as pd\n",
        "import numpy as np\n",
        "import matplotlib.pyplot as plt"
      ]
    },
    {
      "cell_type": "code",
      "source": [
        "from google.colab import drive\n",
        "drive.mount('/content/drive')"
      ],
      "metadata": {
        "colab": {
          "base_uri": "https://localhost:8080/"
        },
        "id": "0FC7W7AVwzP4",
        "outputId": "2463caa6-a9f0-484c-d9fc-9409ce89dc4d"
      },
      "execution_count": 2,
      "outputs": [
        {
          "output_type": "stream",
          "name": "stdout",
          "text": [
            "Mounted at /content/drive\n"
          ]
        }
      ]
    },
    {
      "cell_type": "code",
      "source": [
        "# load Connect Framework Data\n",
        "T1 = \"drive/My Drive/Study/ICTE/connect/T1.csv\"\n",
        "T2 = \"drive/My Drive/Study/ICTE/connect/T2.csv\"\n",
        "T3 = \"drive/My Drive/Study/ICTE/connect/T3.csv\"\n",
        "T4 = \"drive/My Drive/Study/ICTE/connect/T4.csv\"\n",
        "T5 = \"drive/My Drive/Study/ICTE/connect/T5.csv\"\n",
        "T6 = \"drive/My Drive/Study/ICTE/connect/T6.csv\"\n",
        "T7 = \"drive/My Drive/Study/ICTE/connect/T7.csv\"\n",
        "T8 = \"drive/My Drive/Study/ICTE/connect/T8.csv\"\n",
        "T9 = \"drive/My Drive/Study/ICTE/connect/T9.csv\"\n",
        "T10 = \"drive/My Drive/Study/ICTE/connect/T10.csv\"\n",
        "\n",
        "\n",
        "df_T1 = pd.read_csv(T1, parse_dates=['time'])\n",
        "df_T2 = pd.read_csv(T2, parse_dates=['time'])\n",
        "df_T3 = pd.read_csv(T3, parse_dates=['time'])\n",
        "df_T4 = pd.read_csv(T4, parse_dates=['time'])\n",
        "df_T5 = pd.read_csv(T5, parse_dates=['time'])\n",
        "df_T6 = pd.read_csv(T6, parse_dates=['time'])\n",
        "df_T7 = pd.read_csv(T7, parse_dates=['time'])\n",
        "df_T8 = pd.read_csv(T8, parse_dates=['time'])\n",
        "df_T9 = pd.read_csv(T9, parse_dates=['time'])\n",
        "df_T10 = pd.read_csv(T10, parse_dates=['time'])\n",
        "\n",
        "\n",
        "# Set max_rows and max_columns options\n",
        "pd.set_option('display.max_rows', None)\n",
        "pd.set_option('display.max_columns', None)"
      ],
      "metadata": {
        "id": "fdFXACZpxASo"
      },
      "execution_count": 3,
      "outputs": []
    },
    {
      "cell_type": "code",
      "source": [
        "# Set the start and end timestamp of experiment 1\n",
        "\n",
        "start_ts = pd.Timestamp('7:05:37 PM')\n",
        "end_ts = pd.Timestamp('7:06:02 PM')\n",
        "\n",
        "time_diff1 = (end_ts - start_ts).total_seconds()\n",
        "display(time_diff1)\n",
        "\n",
        "# Extract the rows that fall within the timestamp range\n",
        "filtered_T1 = df_T1[(df_T1['time'] >= start_ts) & (df_T1['time'] <= end_ts)]\n",
        "\n",
        "# display(filtered_T1)\n"
      ],
      "metadata": {
        "colab": {
          "base_uri": "https://localhost:8080/",
          "height": 35
        },
        "id": "8DypM84w4yzL",
        "outputId": "62bacd2f-214e-4fef-82e2-c397627a40d5"
      },
      "execution_count": 4,
      "outputs": [
        {
          "output_type": "display_data",
          "data": {
            "text/plain": [
              "25.0"
            ]
          },
          "metadata": {}
        }
      ]
    },
    {
      "cell_type": "code",
      "source": [
        "# Set the start and end timestamp of experiment 2\n",
        "start_ts = pd.Timestamp('7:08:39 PM')\n",
        "end_ts = pd.Timestamp('7:09:03 PM')\n",
        "\n",
        "time_diff2 = (end_ts - start_ts).total_seconds()\n",
        "display(time_diff2)\n",
        "# Extract the rows that fall within the timestamp range\n",
        "filtered_T2 = df_T2[(df_T2['time'] >= start_ts) & (df_T2['time'] <= end_ts)]\n",
        "# display(filtered_T2)"
      ],
      "metadata": {
        "colab": {
          "base_uri": "https://localhost:8080/",
          "height": 35
        },
        "id": "8cLcCWH7_00D",
        "outputId": "d2c6cb20-bc6f-4a05-f560-c103c417c849"
      },
      "execution_count": 5,
      "outputs": [
        {
          "output_type": "display_data",
          "data": {
            "text/plain": [
              "24.0"
            ]
          },
          "metadata": {}
        }
      ]
    },
    {
      "cell_type": "code",
      "source": [
        "# Set the start and end timestamp of experiment 3\n",
        "start_ts = pd.Timestamp('7:12:49 PM')\n",
        "end_ts = pd.Timestamp('7:13:13 PM')\n",
        "\n",
        "time_diff3 = (end_ts - start_ts).total_seconds()\n",
        "display(time_diff3)\n",
        "# Extract the rows that fall within the timestamp range\n",
        "filtered_T3 = df_T3[(df_T3['time'] >= start_ts) & (df_T3['time'] <= end_ts)]\n",
        "# display(filtered_T3)"
      ],
      "metadata": {
        "colab": {
          "base_uri": "https://localhost:8080/",
          "height": 35
        },
        "id": "cS33HZnyAzIw",
        "outputId": "577188a5-ebc5-4702-f810-a53ffe9a9cf0"
      },
      "execution_count": 6,
      "outputs": [
        {
          "output_type": "display_data",
          "data": {
            "text/plain": [
              "24.0"
            ]
          },
          "metadata": {}
        }
      ]
    },
    {
      "cell_type": "markdown",
      "source": [],
      "metadata": {
        "id": "TSKpx8V4BQrV"
      }
    },
    {
      "cell_type": "code",
      "source": [
        "# Set the start and end timestamp of experiment 4\n",
        "start_ts = pd.Timestamp('7:25:43 PM') \n",
        "end_ts = pd.Timestamp('7:26:07 PM')\n",
        "\n",
        "time_diff4 = (end_ts - start_ts).total_seconds()\n",
        "display(time_diff4)\n",
        "# Extract the rows that fall within the timestamp range\n",
        "filtered_T4 = df_T4[(df_T4['time'] >= start_ts) & (df_T4['time'] <= end_ts)]\n",
        "# display(filtered_T4)"
      ],
      "metadata": {
        "colab": {
          "base_uri": "https://localhost:8080/",
          "height": 35
        },
        "id": "2aGpqyHsBR17",
        "outputId": "eca5be4d-93e8-408c-cce0-e94883b0f293"
      },
      "execution_count": 7,
      "outputs": [
        {
          "output_type": "display_data",
          "data": {
            "text/plain": [
              "24.0"
            ]
          },
          "metadata": {}
        }
      ]
    },
    {
      "cell_type": "code",
      "source": [
        "# Set the start and end timestamp of experiment 5\n",
        "start_ts = pd.Timestamp('7:33:43 PM') \n",
        "end_ts = pd.Timestamp('7:34:08 PM')\n",
        "\n",
        "time_diff5 = (end_ts - start_ts).total_seconds()\n",
        "display(time_diff5)\n",
        "# Extract the rows that fall within the timestamp range\n",
        "filtered_T5 = df_T5[(df_T5['time'] >= start_ts) & (df_T5['time'] <= end_ts)]\n",
        "# display(filtered_T5)"
      ],
      "metadata": {
        "colab": {
          "base_uri": "https://localhost:8080/",
          "height": 35
        },
        "id": "mtjJVHF8Bdjj",
        "outputId": "f33dfdc1-c98c-4f15-f1a1-37000176ea08"
      },
      "execution_count": 8,
      "outputs": [
        {
          "output_type": "display_data",
          "data": {
            "text/plain": [
              "25.0"
            ]
          },
          "metadata": {}
        }
      ]
    },
    {
      "cell_type": "code",
      "source": [
        "# Set the start and end timestamp of experiment 6\n",
        "start_ts = pd.Timestamp('7:36:13 PM') \n",
        "end_ts = pd.Timestamp('7:36:38 PM')\n",
        "\n",
        "time_diff6 = (end_ts - start_ts).total_seconds()\n",
        "display(time_diff6)\n",
        "# Extract the rows that fall within the timestamp range\n",
        "filtered_T6 = df_T6[(df_T6['time'] >= start_ts) & (df_T6['time'] <= end_ts)]\n",
        "# display(filtered_T6)"
      ],
      "metadata": {
        "colab": {
          "base_uri": "https://localhost:8080/",
          "height": 35
        },
        "id": "JEzwGOLfB0Lk",
        "outputId": "e639641e-07b9-44b6-8bc4-acb438b9c6b5"
      },
      "execution_count": 9,
      "outputs": [
        {
          "output_type": "display_data",
          "data": {
            "text/plain": [
              "25.0"
            ]
          },
          "metadata": {}
        }
      ]
    },
    {
      "cell_type": "code",
      "source": [
        "# Set the start and end timestamp of experiment 7\n",
        "start_ts = pd.Timestamp('7:39:48 PM') \n",
        "end_ts = pd.Timestamp('7:40:13 PM')\n",
        "\n",
        "time_diff7 = (end_ts - start_ts).total_seconds()\n",
        "display(time_diff7)\n",
        "\n",
        "# Extract the rows that fall within the timestamp range\n",
        "filtered_T7 = df_T7[(df_T7['time'] >= start_ts) & (df_T7['time'] <= end_ts)]\n",
        "# display(filtered_T7)"
      ],
      "metadata": {
        "colab": {
          "base_uri": "https://localhost:8080/",
          "height": 35
        },
        "id": "BLMV1BWbCN21",
        "outputId": "84ada181-896c-4c20-9751-78748ef3d590"
      },
      "execution_count": 10,
      "outputs": [
        {
          "output_type": "display_data",
          "data": {
            "text/plain": [
              "25.0"
            ]
          },
          "metadata": {}
        }
      ]
    },
    {
      "cell_type": "code",
      "source": [
        "# Set the start and end timestamp of experiment 8\n",
        "start_ts = pd.Timestamp('7:43:18 PM') \n",
        "end_ts = pd.Timestamp('7:43:42 PM')\n",
        "\n",
        "time_diff8 = (end_ts - start_ts).total_seconds()\n",
        "display(time_diff8)\n",
        "# Extract the rows that fall within the timestamp range\n",
        "filtered_T8 = df_T8[(df_T8['time'] >= start_ts) & (df_T8['time'] <= end_ts)]\n",
        "# display(filtered_T8)"
      ],
      "metadata": {
        "colab": {
          "base_uri": "https://localhost:8080/",
          "height": 35
        },
        "id": "FhXPBsCbCvz-",
        "outputId": "028a6d04-9e33-4206-da30-22bd03e6d8ed"
      },
      "execution_count": 11,
      "outputs": [
        {
          "output_type": "display_data",
          "data": {
            "text/plain": [
              "24.0"
            ]
          },
          "metadata": {}
        }
      ]
    },
    {
      "cell_type": "code",
      "source": [
        "# Set the start and end timestamp of experiment 9\n",
        "start_ts = pd.Timestamp('7:46:23 PM') \n",
        "end_ts = pd.Timestamp('7:46:48 PM')\n",
        "\n",
        "time_diff9 = (end_ts - start_ts).total_seconds()\n",
        "display(time_diff9)\n",
        "# Extract the rows that fall within the timestamp range\n",
        "filtered_T9 = df_T9[(df_T9['time'] >= start_ts) & (df_T9['time'] <= end_ts)]\n"
      ],
      "metadata": {
        "colab": {
          "base_uri": "https://localhost:8080/",
          "height": 35
        },
        "id": "EiXmYT4eDVop",
        "outputId": "d5ccb6de-2af1-4f39-ad28-fe715cc457bd"
      },
      "execution_count": 12,
      "outputs": [
        {
          "output_type": "display_data",
          "data": {
            "text/plain": [
              "25.0"
            ]
          },
          "metadata": {}
        }
      ]
    },
    {
      "cell_type": "code",
      "source": [
        "# Set the start and end timestamp of experiment 10\n",
        "start_ts = pd.Timestamp('7:48:20 PM') \n",
        "end_ts = pd.Timestamp('7:48:45 PM')\n",
        "\n",
        "time_diff10 = (end_ts - start_ts).total_seconds()\n",
        "display(time_diff10)\n",
        "# Extract the rows that fall within the timestamp range\n",
        "filtered_T10 = df_T10[(df_T10['time'] >= start_ts) & (df_T10['time'] <= end_ts)]\n"
      ],
      "metadata": {
        "colab": {
          "base_uri": "https://localhost:8080/",
          "height": 35
        },
        "id": "j4c7x9jbDw5U",
        "outputId": "919a8118-6e37-499a-d0a5-9cc651234499"
      },
      "execution_count": 13,
      "outputs": [
        {
          "output_type": "display_data",
          "data": {
            "text/plain": [
              "25.0"
            ]
          },
          "metadata": {}
        }
      ]
    },
    {
      "cell_type": "code",
      "source": [
        "#Time Mean\n",
        "TIME_MEAN = (time_diff1+time_diff2+time_diff3+time_diff4+time_diff5+time_diff6+time_diff7+time_diff8+time_diff9+time_diff10)/10\n",
        "print(TIME_MEAN)"
      ],
      "metadata": {
        "colab": {
          "base_uri": "https://localhost:8080/"
        },
        "id": "5UVvaVVkN2Oy",
        "outputId": "30ba25aa-db09-4dd0-cbde-a1672e214a2d"
      },
      "execution_count": 14,
      "outputs": [
        {
          "output_type": "stream",
          "name": "stdout",
          "text": [
            "24.6\n"
          ]
        }
      ]
    },
    {
      "cell_type": "code",
      "source": [
        "#CPU Aplication Power \n",
        "CPU_APPLICATION_POWER_TOTAL = filtered_T1[' Application (W)'].sum() + filtered_T2[' Application (W)'].sum() + filtered_T3[' Application (W)'].sum() + filtered_T4[' Application (W)'].sum() + filtered_T5[' Application (W)'].sum()+ filtered_T6[' Application (W)'].sum()  + filtered_T7[' Application (W)'].sum() + filtered_T8[' Application (W)'].sum() + filtered_T9[' Application (W)'].sum()+ filtered_T10[' Application (W)'].sum()  \n",
        "CPU_APPLICATION_POWER_MEAN = CPU_APPLICATION_POWER_TOTAL/(10*TIME_MEAN)\n",
        "print(CPU_APPLICATION_POWER_MEAN)"
      ],
      "metadata": {
        "colab": {
          "base_uri": "https://localhost:8080/"
        },
        "id": "Pfm8KiBfFSVi",
        "outputId": "4465524a-9fbe-4810-c6af-9bbf24eeeb09"
      },
      "execution_count": 15,
      "outputs": [
        {
          "output_type": "stream",
          "name": "stdout",
          "text": [
            "0.060569105691056904\n"
          ]
        }
      ]
    },
    {
      "cell_type": "code",
      "source": [
        "#CPU  Power \n",
        "CPU_POWER_TOTAL = filtered_T1[' CPU (W)'].sum() + filtered_T2[' CPU (W)'].sum() + filtered_T3[' CPU (W)'].sum() + filtered_T4[' CPU (W)'].sum() + filtered_T5[' CPU (W)'].sum()+ filtered_T6[' CPU (W)'].sum()  + filtered_T7[' CPU (W)'].sum() + filtered_T8[' CPU (W)'].sum() + filtered_T9[' CPU (W)'].sum()+ filtered_T10[' CPU (W)'].sum()  \n",
        "CPU_POWER_MEAN = CPU_POWER_TOTAL/(10*TIME_MEAN)\n",
        "print(CPU_POWER_MEAN)"
      ],
      "metadata": {
        "colab": {
          "base_uri": "https://localhost:8080/"
        },
        "id": "BgO6Rv4_P--9",
        "outputId": "5170f5c2-5b63-46c7-ad58-253ec9447f17"
      },
      "execution_count": 16,
      "outputs": [
        {
          "output_type": "stream",
          "name": "stdout",
          "text": [
            "0.8800813008130081\n"
          ]
        }
      ]
    },
    {
      "cell_type": "code",
      "source": [
        "#Monitor  Power \n",
        "MONITOR_POWER_TOTAL = filtered_T1[' Monitor (W)'].sum() + filtered_T2[' Monitor (W)'].sum() + filtered_T3[' Monitor (W)'].sum() + filtered_T4[' Monitor (W)'].sum() + filtered_T5[' Monitor (W)'].sum()+ filtered_T6[' Monitor (W)'].sum()  + filtered_T7[' Monitor (W)'].sum() + filtered_T8[' Monitor (W)'].sum() + filtered_T9[' Monitor (W)'].sum()+ filtered_T10[' Monitor (W)'].sum()  \n",
        "MONITOR_POWER_MEAN = MONITOR_POWER_TOTAL/(10*TIME_MEAN)\n",
        "print(MONITOR_POWER_MEAN) "
      ],
      "metadata": {
        "colab": {
          "base_uri": "https://localhost:8080/"
        },
        "id": "wfOIzqtIRmg-",
        "outputId": "942c44fb-cc14-4212-84f5-503e53e7fb6e"
      },
      "execution_count": 17,
      "outputs": [
        {
          "output_type": "stream",
          "name": "stdout",
          "text": [
            "6.544715447154472\n"
          ]
        }
      ]
    },
    {
      "cell_type": "code",
      "source": [
        "#Disk  Power \n",
        "DISK_POWER_TOTAL = filtered_T1[' Disk (W)'].sum() + filtered_T2[' Disk (W)'].sum() + filtered_T3[' Disk (W)'].sum() + filtered_T4[' Disk (W)'].sum() + filtered_T5[' Disk (W)'].sum()+ filtered_T6[' Disk (W)'].sum()  + filtered_T7[' Disk (W)'].sum() + filtered_T8[' Disk (W)'].sum() + filtered_T9[' Disk (W)'].sum()+ filtered_T10[' Disk (W)'].sum()  \n",
        "DISK_POWER_MEAN =DISK_POWER_TOTAL/(10*TIME_MEAN)\n",
        "print(DISK_POWER_MEAN) "
      ],
      "metadata": {
        "colab": {
          "base_uri": "https://localhost:8080/"
        },
        "id": "jk1N0YsmRy5h",
        "outputId": "f06e469e-2bb0-43e6-f207-6071295d3890"
      },
      "execution_count": 18,
      "outputs": [
        {
          "output_type": "stream",
          "name": "stdout",
          "text": [
            "0.0004065040650406504\n"
          ]
        }
      ]
    },
    {
      "cell_type": "code",
      "source": [
        "#BASE  Power \n",
        "BASE_POWER_TOTAL = filtered_T1[' Base (W)'].sum() + filtered_T2[' Base (W)'].sum() + filtered_T3[' Base (W)'].sum() + filtered_T4[' Base (W)'].sum() + filtered_T5[' Base (W)'].sum()+ filtered_T6[' Base (W)'].sum()  + filtered_T7[' Base (W)'].sum() + filtered_T8[' Base (W)'].sum() + filtered_T9[' Base (W)'].sum()+ filtered_T10[' Base (W)'].sum()  \n",
        "BASE_POWER_MEAN = BASE_POWER_TOTAL/(10*TIME_MEAN)\n",
        "print(BASE_POWER_MEAN) "
      ],
      "metadata": {
        "colab": {
          "base_uri": "https://localhost:8080/"
        },
        "id": "aTs0yFHwSiv2",
        "outputId": "74272942-5444-4e13-94fa-983c8f1fb37d"
      },
      "execution_count": 19,
      "outputs": [
        {
          "output_type": "stream",
          "name": "stdout",
          "text": [
            "14.024390243902438\n"
          ]
        }
      ]
    },
    {
      "cell_type": "code",
      "source": [],
      "metadata": {
        "id": "nBcnWQJQTcSy"
      },
      "execution_count": 19,
      "outputs": []
    },
    {
      "cell_type": "code",
      "source": [
        "#Total Hardware energy\n",
        "TOTAL_HARDWARE_ENERGY = (CPU_POWER_MEAN + MONITOR_POWER_MEAN + DISK_POWER_MEAN + BASE_POWER_MEAN)\n",
        "print(TOTAL_HARDWARE_ENERGY)"
      ],
      "metadata": {
        "colab": {
          "base_uri": "https://localhost:8080/"
        },
        "id": "IzoTNC0rVGMu",
        "outputId": "8f231198-7829-4bc8-a43a-1c3fe297e688"
      },
      "execution_count": 20,
      "outputs": [
        {
          "output_type": "stream",
          "name": "stdout",
          "text": [
            "21.44959349593496\n"
          ]
        }
      ]
    },
    {
      "cell_type": "code",
      "source": [
        "#Agreegated Total Energy\n",
        "AGGEGATED_TOTAL_ENERGY = TOTAL_HARDWARE_ENERGY + CPU_APPLICATION_POWER_MEAN\n",
        "print(AGGEGATED_TOTAL_ENERGY)"
      ],
      "metadata": {
        "colab": {
          "base_uri": "https://localhost:8080/"
        },
        "id": "ZoAfo_wdUELa",
        "outputId": "eb7a3dc2-0919-4234-ccaa-b905be9daa17"
      },
      "execution_count": 21,
      "outputs": [
        {
          "output_type": "stream",
          "name": "stdout",
          "text": [
            "21.510162601626018\n"
          ]
        }
      ]
    }
  ]
}