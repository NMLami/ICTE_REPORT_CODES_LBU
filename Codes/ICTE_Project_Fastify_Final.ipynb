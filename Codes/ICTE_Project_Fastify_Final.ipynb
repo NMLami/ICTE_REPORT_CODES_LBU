{
  "nbformat": 4,
  "nbformat_minor": 0,
  "metadata": {
    "colab": {
      "provenance": []
    },
    "kernelspec": {
      "name": "python3",
      "display_name": "Python 3"
    },
    "language_info": {
      "name": "python"
    }
  },
  "cells": [
    {
      "cell_type": "markdown",
      "source": [
        "**Data Analysis of Energy consumption of Nodejs Framework**"
      ],
      "metadata": {
        "id": "Yk_DG79owmZ5"
      }
    },
    {
      "cell_type": "code",
      "execution_count": 1,
      "metadata": {
        "id": "yLUhH4F_wg1a"
      },
      "outputs": [],
      "source": [
        "import pandas as pd\n",
        "import numpy as np\n",
        "import matplotlib.pyplot as plt"
      ]
    },
    {
      "cell_type": "code",
      "source": [
        "from google.colab import drive\n",
        "drive.mount('/content/drive')"
      ],
      "metadata": {
        "colab": {
          "base_uri": "https://localhost:8080/"
        },
        "id": "0FC7W7AVwzP4",
        "outputId": "4be91e9f-e8dc-44eb-f009-f024fe9e9bad"
      },
      "execution_count": 2,
      "outputs": [
        {
          "output_type": "stream",
          "name": "stdout",
          "text": [
            "Mounted at /content/drive\n"
          ]
        }
      ]
    },
    {
      "cell_type": "code",
      "source": [
        "# load data of Fastify Framework\n",
        "T1 = \"drive/My Drive/Study/ICTE/fastify/T1.csv\"\n",
        "T2 = \"drive/My Drive/Study/ICTE/fastify/T2.csv\"\n",
        "T3 = \"drive/My Drive/Study/ICTE/fastify/T3.csv\"\n",
        "T4 = \"drive/My Drive/Study/ICTE/fastify/T4.csv\"\n",
        "T5 = \"drive/My Drive/Study/ICTE/fastify/T5.csv\"\n",
        "T6 = \"drive/My Drive/Study/ICTE/fastify/T6.csv\"\n",
        "T7 = \"drive/My Drive/Study/ICTE/fastify/T7.csv\"\n",
        "T8 = \"drive/My Drive/Study/ICTE/fastify/T8.csv\"\n",
        "T9 = \"drive/My Drive/Study/ICTE/fastify/T9.csv\"\n",
        "T10 = \"drive/My Drive/Study/ICTE/fastify/T10.csv\"\n",
        "\n",
        "df_T1 = pd.read_csv(T1, parse_dates=['time'])\n",
        "df_T2 = pd.read_csv(T2, parse_dates=['time'])\n",
        "df_T3 = pd.read_csv(T3, parse_dates=['time'])\n",
        "df_T4 = pd.read_csv(T4, parse_dates=['time'])\n",
        "df_T5 = pd.read_csv(T5, parse_dates=['time'])\n",
        "df_T6 = pd.read_csv(T6, parse_dates=['time'])\n",
        "df_T7 = pd.read_csv(T7, parse_dates=['time'])\n",
        "df_T8 = pd.read_csv(T8, parse_dates=['time'])\n",
        "df_T9 = pd.read_csv(T9, parse_dates=['time'])\n",
        "df_T10 = pd.read_csv(T10, parse_dates=['time'])\n",
        "\n",
        "\n",
        "# Set max_rows and max_columns options\n",
        "pd.set_option('display.max_rows', None)\n",
        "pd.set_option('display.max_columns', None)"
      ],
      "metadata": {
        "id": "fdFXACZpxASo"
      },
      "execution_count": 3,
      "outputs": []
    },
    {
      "cell_type": "code",
      "source": [
        "# Set the start and end timestamp experiment 1\n",
        "\n",
        "start_ts = pd.Timestamp('3:35:30 PM')\n",
        "end_ts = pd.Timestamp('3:35:54 PM')\n",
        "\n",
        "time_diff1 = (end_ts - start_ts).total_seconds()\n",
        "display(time_diff1)\n",
        "\n",
        "# Extract the rows that fall within the timestamp range\n",
        "filtered_T1 = df_T1[(df_T1['time'] >= start_ts) & (df_T1['time'] <= end_ts)]\n",
        "\n",
        "# display(filtered_T1)\n",
        "# print(filtered_T1[' Application (W)'].mean())"
      ],
      "metadata": {
        "colab": {
          "base_uri": "https://localhost:8080/",
          "height": 35
        },
        "id": "8DypM84w4yzL",
        "outputId": "33db21b6-d9a0-4030-d7d1-7c82ce6f8bf2"
      },
      "execution_count": 5,
      "outputs": [
        {
          "output_type": "display_data",
          "data": {
            "text/plain": [
              "24.0"
            ]
          },
          "metadata": {}
        }
      ]
    },
    {
      "cell_type": "code",
      "source": [
        "# Set the start and end timestamp experiment 2\n",
        "start_ts = pd.Timestamp('3:38:27 PM')\n",
        "end_ts = pd.Timestamp('3:38:52 PM')\n",
        "\n",
        "time_diff2 = (end_ts - start_ts).total_seconds()\n",
        "display(time_diff2)\n",
        "# Extract the rows that fall within the timestamp range\n",
        "filtered_T2 = df_T2[(df_T2['time'] >= start_ts) & (df_T2['time'] <= end_ts)]\n",
        "# display(filtered_T2)\n",
        "# print(filtered_T2[' Application (W)'].mean())"
      ],
      "metadata": {
        "colab": {
          "base_uri": "https://localhost:8080/",
          "height": 35
        },
        "id": "8cLcCWH7_00D",
        "outputId": "9656f1bd-3faf-466e-cb4c-316499d03f29"
      },
      "execution_count": 6,
      "outputs": [
        {
          "output_type": "display_data",
          "data": {
            "text/plain": [
              "25.0"
            ]
          },
          "metadata": {}
        }
      ]
    },
    {
      "cell_type": "code",
      "source": [
        "# Set the start and end timestamp experiment 3\n",
        "start_ts = pd.Timestamp('3:41:09 PM')\n",
        "end_ts = pd.Timestamp('3:41:33 PM')\n",
        "\n",
        "time_diff3 = (end_ts - start_ts).total_seconds()\n",
        "display(time_diff3)\n",
        "# Extract the rows that fall within the timestamp range\n",
        "filtered_T3 = df_T3[(df_T3['time'] >= start_ts) & (df_T3['time'] <= end_ts)]\n",
        "# display(filtered_T3)\n"
      ],
      "metadata": {
        "colab": {
          "base_uri": "https://localhost:8080/",
          "height": 35
        },
        "id": "cS33HZnyAzIw",
        "outputId": "d74f4db6-09ee-4ec4-8bbd-d7dc975caa2c"
      },
      "execution_count": 7,
      "outputs": [
        {
          "output_type": "display_data",
          "data": {
            "text/plain": [
              "24.0"
            ]
          },
          "metadata": {}
        }
      ]
    },
    {
      "cell_type": "markdown",
      "source": [],
      "metadata": {
        "id": "TSKpx8V4BQrV"
      }
    },
    {
      "cell_type": "code",
      "source": [
        "# Set the start and end timestamp experiment 4\n",
        "start_ts = pd.Timestamp('3:48:33 PM') \n",
        "end_ts = pd.Timestamp('3:48:57 PM')\n",
        "\n",
        "time_diff4 = (end_ts - start_ts).total_seconds()\n",
        "display(time_diff4)\n",
        "# Extract the rows that fall within the timestamp range\n",
        "filtered_T4 = df_T4[(df_T4['time'] >= start_ts) & (df_T4['time'] <= end_ts)]\n",
        "# display(filtered_T4)\n"
      ],
      "metadata": {
        "colab": {
          "base_uri": "https://localhost:8080/",
          "height": 35
        },
        "id": "2aGpqyHsBR17",
        "outputId": "5696ad12-9433-44b2-fa8c-3303c870d654"
      },
      "execution_count": 8,
      "outputs": [
        {
          "output_type": "display_data",
          "data": {
            "text/plain": [
              "24.0"
            ]
          },
          "metadata": {}
        }
      ]
    },
    {
      "cell_type": "code",
      "source": [
        "# Set the start and end timestamp experiment 5\n",
        "start_ts = pd.Timestamp('3:55:30 PM') \n",
        "end_ts = pd.Timestamp('3:55:54 PM')\n",
        "\n",
        "time_diff5 = (end_ts - start_ts).total_seconds()\n",
        "display(time_diff5)\n",
        "# Extract the rows that fall within the timestamp range\n",
        "filtered_T5 = df_T5[(df_T5['time'] >= start_ts) & (df_T5['time'] <= end_ts)]\n",
        "# display(filtered_T5)\n"
      ],
      "metadata": {
        "colab": {
          "base_uri": "https://localhost:8080/",
          "height": 35
        },
        "id": "mtjJVHF8Bdjj",
        "outputId": "3924454e-430e-401b-8d84-1363e8a841f9"
      },
      "execution_count": 9,
      "outputs": [
        {
          "output_type": "display_data",
          "data": {
            "text/plain": [
              "24.0"
            ]
          },
          "metadata": {}
        }
      ]
    },
    {
      "cell_type": "code",
      "source": [
        "# Set the start and end timestamp experiment 6\n",
        "start_ts = pd.Timestamp('8:51:54 PM') \n",
        "end_ts = pd.Timestamp('8:52:19 PM')\n",
        "\n",
        "time_diff6 = (end_ts - start_ts).total_seconds()\n",
        "display(time_diff6)\n",
        "# Extract the rows that fall within the timestamp range\n",
        "filtered_T6 = df_T6[(df_T6['time'] >= start_ts) & (df_T6['time'] <= end_ts)]\n",
        "# display(filtered_T6)\n"
      ],
      "metadata": {
        "colab": {
          "base_uri": "https://localhost:8080/",
          "height": 35
        },
        "id": "JEzwGOLfB0Lk",
        "outputId": "73b67d83-6bba-48ee-cfbc-684798a5d360"
      },
      "execution_count": 10,
      "outputs": [
        {
          "output_type": "display_data",
          "data": {
            "text/plain": [
              "25.0"
            ]
          },
          "metadata": {}
        }
      ]
    },
    {
      "cell_type": "code",
      "source": [
        "# Set the start and end timestamp experiment 7\n",
        "start_ts = pd.Timestamp('8:53:51 PM') \n",
        "end_ts = pd.Timestamp('8:54:15 PM')\n",
        "\n",
        "time_diff7 = (end_ts - start_ts).total_seconds()\n",
        "display(time_diff7)\n",
        "\n",
        "# Extract the rows that fall within the timestamp range\n",
        "filtered_T7 = df_T7[(df_T7['time'] >= start_ts) & (df_T7['time'] <= end_ts)]\n",
        "# display(filtered_T7)\n"
      ],
      "metadata": {
        "colab": {
          "base_uri": "https://localhost:8080/",
          "height": 35
        },
        "id": "BLMV1BWbCN21",
        "outputId": "f0805fb1-3b21-416f-df70-8e69dce2f218"
      },
      "execution_count": 11,
      "outputs": [
        {
          "output_type": "display_data",
          "data": {
            "text/plain": [
              "24.0"
            ]
          },
          "metadata": {}
        }
      ]
    },
    {
      "cell_type": "code",
      "source": [
        "# Set the start and end timestamp experiment 8\n",
        "start_ts = pd.Timestamp('8:55:57 PM') \n",
        "end_ts = pd.Timestamp('8:56:22 PM')\n",
        "\n",
        "time_diff8 = (end_ts - start_ts).total_seconds()\n",
        "display(time_diff8)\n",
        "# Extract the rows that fall within the timestamp range\n",
        "filtered_T8 = df_T8[(df_T8['time'] >= start_ts) & (df_T8['time'] <= end_ts)]\n",
        "# display(filtered_T8)\n"
      ],
      "metadata": {
        "colab": {
          "base_uri": "https://localhost:8080/",
          "height": 35
        },
        "id": "FhXPBsCbCvz-",
        "outputId": "60d78c0e-5a1e-4323-bdd4-afeb5e8f00ae"
      },
      "execution_count": 12,
      "outputs": [
        {
          "output_type": "display_data",
          "data": {
            "text/plain": [
              "25.0"
            ]
          },
          "metadata": {}
        }
      ]
    },
    {
      "cell_type": "code",
      "source": [
        "# Set the start and end timestamp experiment 9\n",
        "start_ts = pd.Timestamp('8:57:58 PM') \n",
        "end_ts = pd.Timestamp('8:58:23 PM')\n",
        "\n",
        "time_diff9 = (end_ts - start_ts).total_seconds()\n",
        "display(time_diff9)\n",
        "# Extract the rows that fall within the timestamp range\n",
        "filtered_T9 = df_T9[(df_T9['time'] >= start_ts) & (df_T9['time'] <= end_ts)]\n"
      ],
      "metadata": {
        "colab": {
          "base_uri": "https://localhost:8080/",
          "height": 35
        },
        "id": "EiXmYT4eDVop",
        "outputId": "01907428-e39d-406e-f5c4-44ac01ca3e60"
      },
      "execution_count": 13,
      "outputs": [
        {
          "output_type": "display_data",
          "data": {
            "text/plain": [
              "25.0"
            ]
          },
          "metadata": {}
        }
      ]
    },
    {
      "cell_type": "code",
      "source": [
        "# Set the start and end timestamp experiment 10\n",
        "start_ts = pd.Timestamp('9:00:13 PM') \n",
        "end_ts = pd.Timestamp('9:00:37 PM')\n",
        "\n",
        "time_diff10 = (end_ts - start_ts).total_seconds()\n",
        "display(time_diff10)\n",
        "# Extract the rows that fall within the timestamp range\n",
        "filtered_T10 = df_T10[(df_T10['time'] >= start_ts) & (df_T10['time'] <= end_ts)]\n"
      ],
      "metadata": {
        "colab": {
          "base_uri": "https://localhost:8080/",
          "height": 35
        },
        "id": "j4c7x9jbDw5U",
        "outputId": "38838437-e324-4789-f779-3fd81b93d4b4"
      },
      "execution_count": 14,
      "outputs": [
        {
          "output_type": "display_data",
          "data": {
            "text/plain": [
              "24.0"
            ]
          },
          "metadata": {}
        }
      ]
    },
    {
      "cell_type": "code",
      "source": [
        "#Time Mean\n",
        "TIME_MEAN = (time_diff1+time_diff2+time_diff3+time_diff4+time_diff5+time_diff6+time_diff7+time_diff8+time_diff9+time_diff10)/10\n",
        "print(TIME_MEAN)"
      ],
      "metadata": {
        "colab": {
          "base_uri": "https://localhost:8080/"
        },
        "id": "oVlgluGhGX8b",
        "outputId": "3b8e473a-65cb-47da-89ef-bfabca71c6bc"
      },
      "execution_count": 15,
      "outputs": [
        {
          "output_type": "stream",
          "name": "stdout",
          "text": [
            "24.4\n"
          ]
        }
      ]
    },
    {
      "cell_type": "code",
      "source": [
        "#CPU Aplication Power \n",
        "CPU_APPLICATION_POWER_TOTAL = filtered_T1[' Application (W)'].sum() + filtered_T2[' Application (W)'].sum() + filtered_T3[' Application (W)'].sum() + filtered_T4[' Application (W)'].sum() + filtered_T5[' Application (W)'].sum()+ filtered_T6[' Application (W)'].sum()  + filtered_T7[' Application (W)'].sum() + filtered_T8[' Application (W)'].sum() + filtered_T9[' Application (W)'].sum()+ filtered_T10[' Application (W)'].sum()  \n",
        "CPU_APPLICATION_POWER_MEAN = CPU_APPLICATION_POWER_TOTAL/(10*TIME_MEAN)\n",
        "print(CPU_APPLICATION_POWER_MEAN)"
      ],
      "metadata": {
        "colab": {
          "base_uri": "https://localhost:8080/"
        },
        "id": "Pfm8KiBfFSVi",
        "outputId": "3cfe8808-00d2-40f5-d165-a201386e8a89"
      },
      "execution_count": 16,
      "outputs": [
        {
          "output_type": "stream",
          "name": "stdout",
          "text": [
            "0.03360655737704918\n"
          ]
        }
      ]
    },
    {
      "cell_type": "code",
      "source": [
        "#CPU  Power \n",
        "CPU_POWER_TOTAL = filtered_T1[' CPU (W)'].sum() + filtered_T2[' CPU (W)'].sum() + filtered_T3[' CPU (W)'].sum() + filtered_T4[' CPU (W)'].sum() + filtered_T5[' CPU (W)'].sum()+ filtered_T6[' CPU (W)'].sum()  + filtered_T7[' CPU (W)'].sum() + filtered_T8[' CPU (W)'].sum() + filtered_T9[' CPU (W)'].sum()+ filtered_T10[' CPU (W)'].sum()  \n",
        "CPU_POWER_MEAN = CPU_POWER_TOTAL/(10*TIME_MEAN)\n",
        "print(CPU_POWER_MEAN)"
      ],
      "metadata": {
        "colab": {
          "base_uri": "https://localhost:8080/"
        },
        "id": "BgO6Rv4_P--9",
        "outputId": "65475ce6-31bd-4d47-f8f3-a83edfd9db57"
      },
      "execution_count": 17,
      "outputs": [
        {
          "output_type": "stream",
          "name": "stdout",
          "text": [
            "0.8959016393442621\n"
          ]
        }
      ]
    },
    {
      "cell_type": "code",
      "source": [
        "#Monitor  Power \n",
        "MONITOR_POWER_TOTAL = filtered_T1[' Monitor (W)'].sum() + filtered_T2[' Monitor (W)'].sum() + filtered_T3[' Monitor (W)'].sum() + filtered_T4[' Monitor (W)'].sum() + filtered_T5[' Monitor (W)'].sum()+ filtered_T6[' Monitor (W)'].sum()  + filtered_T7[' Monitor (W)'].sum() + filtered_T8[' Monitor (W)'].sum() + filtered_T9[' Monitor (W)'].sum()+ filtered_T10[' Monitor (W)'].sum()  \n",
        "MONITOR_POWER_MEAN = MONITOR_POWER_TOTAL/(10*TIME_MEAN)\n",
        "print(MONITOR_POWER_MEAN) "
      ],
      "metadata": {
        "colab": {
          "base_uri": "https://localhost:8080/"
        },
        "id": "wfOIzqtIRmg-",
        "outputId": "de7f1061-cb65-4216-cd69-2673d2b8a715"
      },
      "execution_count": 18,
      "outputs": [
        {
          "output_type": "stream",
          "name": "stdout",
          "text": [
            "6.598360655737705\n"
          ]
        }
      ]
    },
    {
      "cell_type": "code",
      "source": [
        "#Disk  Power \n",
        "DISK_POWER_TOTAL = filtered_T1[' Disk (W)'].sum() + filtered_T2[' Disk (W)'].sum() + filtered_T3[' Disk (W)'].sum() + filtered_T4[' Disk (W)'].sum() + filtered_T5[' Disk (W)'].sum()+ filtered_T6[' Disk (W)'].sum()  + filtered_T7[' Disk (W)'].sum() + filtered_T8[' Disk (W)'].sum() + filtered_T9[' Disk (W)'].sum()+ filtered_T10[' Disk (W)'].sum()  \n",
        "DISK_POWER_MEAN =DISK_POWER_TOTAL/(10*TIME_MEAN)\n",
        "print(DISK_POWER_MEAN) "
      ],
      "metadata": {
        "colab": {
          "base_uri": "https://localhost:8080/"
        },
        "id": "jk1N0YsmRy5h",
        "outputId": "d9cd5183-52c2-4071-a4cb-8e8b4be340ad"
      },
      "execution_count": 19,
      "outputs": [
        {
          "output_type": "stream",
          "name": "stdout",
          "text": [
            "0.0028688524590163933\n"
          ]
        }
      ]
    },
    {
      "cell_type": "code",
      "source": [
        "#BASE  Power \n",
        "BASE_POWER_TOTAL = filtered_T1[' Base (W)'].sum() + filtered_T2[' Base (W)'].sum() + filtered_T3[' Base (W)'].sum() + filtered_T4[' Base (W)'].sum() + filtered_T5[' Base (W)'].sum()+ filtered_T6[' Base (W)'].sum()  + filtered_T7[' Base (W)'].sum() + filtered_T8[' Base (W)'].sum() + filtered_T9[' Base (W)'].sum()+ filtered_T10[' Base (W)'].sum()  \n",
        "BASE_POWER_MEAN = BASE_POWER_TOTAL/(10*TIME_MEAN)\n",
        "print(BASE_POWER_MEAN) "
      ],
      "metadata": {
        "colab": {
          "base_uri": "https://localhost:8080/"
        },
        "id": "aTs0yFHwSiv2",
        "outputId": "e0e3d8c3-b52d-41b7-be4b-b8eed7f6b383"
      },
      "execution_count": 20,
      "outputs": [
        {
          "output_type": "stream",
          "name": "stdout",
          "text": [
            "14.139344262295081\n"
          ]
        }
      ]
    },
    {
      "cell_type": "code",
      "source": [],
      "metadata": {
        "id": "nBcnWQJQTcSy"
      },
      "execution_count": 20,
      "outputs": []
    },
    {
      "cell_type": "code",
      "source": [
        "#Total Hardware energy\n",
        "TOTAL_HARDWARE_ENERGY = (CPU_POWER_MEAN + MONITOR_POWER_MEAN + DISK_POWER_MEAN + BASE_POWER_MEAN)\n",
        "print(TOTAL_HARDWARE_ENERGY)"
      ],
      "metadata": {
        "colab": {
          "base_uri": "https://localhost:8080/"
        },
        "id": "IzoTNC0rVGMu",
        "outputId": "e69ac517-c859-4408-c62d-6923d4b14730"
      },
      "execution_count": 21,
      "outputs": [
        {
          "output_type": "stream",
          "name": "stdout",
          "text": [
            "21.636475409836066\n"
          ]
        }
      ]
    },
    {
      "cell_type": "code",
      "source": [
        "#Agreegated Total Energy\n",
        "AGGEGATED_TOTAL_ENERGY = TOTAL_HARDWARE_ENERGY + CPU_APPLICATION_POWER_MEAN\n",
        "print(AGGEGATED_TOTAL_ENERGY)"
      ],
      "metadata": {
        "colab": {
          "base_uri": "https://localhost:8080/"
        },
        "id": "ZoAfo_wdUELa",
        "outputId": "86f23327-a5d1-4a1f-fff8-497de55d2ba4"
      },
      "execution_count": 22,
      "outputs": [
        {
          "output_type": "stream",
          "name": "stdout",
          "text": [
            "21.670081967213115\n"
          ]
        }
      ]
    }
  ]
}